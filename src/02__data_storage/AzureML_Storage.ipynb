{
 "cells": [
  {
   "cell_type": "code",
   "execution_count": 1,
   "metadata": {},
   "outputs": [
    {
     "name": "stderr",
     "output_type": "stream",
     "text": [
      "c:\\Bib\\envs\\azml_training\\lib\\site-packages\\tqdm\\auto.py:22: TqdmWarning: IProgress not found. Please update jupyter and ipywidgets. See https://ipywidgets.readthedocs.io/en/stable/user_install.html\n",
      "  from .autonotebook import tqdm as notebook_tqdm\n"
     ]
    }
   ],
   "source": [
    "import os\n",
    "os.makedirs('../data',exist_ok=True)\n",
    "import torchvision\n",
    "mnist_train = torchvision.datasets.MNIST(root = \"../data\",train = True,download=True)"
   ]
  },
  {
   "cell_type": "code",
   "execution_count": 2,
   "metadata": {},
   "outputs": [
    {
     "name": "stderr",
     "output_type": "stream",
     "text": [
      " 19%|█▊        | 11191/60000 [00:00<00:03, 12817.96it/s]"
     ]
    },
    {
     "name": "stdout",
     "output_type": "stream",
     "text": [
      "Selection Completed !\n"
     ]
    },
    {
     "name": "stderr",
     "output_type": "stream",
     "text": [
      "\n"
     ]
    }
   ],
   "source": [
    "import numpy as np\n",
    "from tqdm import tqdm\n",
    "\n",
    "NMAX = 1000 # We'll keep 1000 images per classes\n",
    "NClasses = len(mnist_train.classes)\n",
    "\n",
    "indices = np.arange(len(mnist_train))\n",
    "np.random.shuffle(indices)\n",
    "selection = {clsName:[] for clsName in mnist_train.classes}\n",
    "for i in tqdm(indices):\n",
    "    img_pil,clsID = mnist_train[i]\n",
    "    clsName = mnist_train.classes[clsID]\n",
    "    if len(selection[clsName])<NMAX:\n",
    "        # We convert in RGB (optionnal)\n",
    "        selection[clsName].append(img_pil.convert('RGB')) \n",
    "    if sum([len(indices) for indices in selection.values()])==NMAX*NClasses:\n",
    "        print('Selection Completed !')\n",
    "        break"
   ]
  },
  {
   "cell_type": "code",
   "execution_count": 3,
   "metadata": {},
   "outputs": [
    {
     "name": "stderr",
     "output_type": "stream",
     "text": [
      "100%|██████████| 1000/1000 [00:01<00:00, 727.97it/s]\n",
      "100%|██████████| 1000/1000 [00:01<00:00, 667.57it/s]\n",
      "100%|██████████| 1000/1000 [00:01<00:00, 659.48it/s]\n",
      "100%|██████████| 1000/1000 [00:01<00:00, 617.83it/s]\n",
      "100%|██████████| 1000/1000 [00:01<00:00, 574.40it/s]\n",
      "100%|██████████| 1000/1000 [00:01<00:00, 689.76it/s]\n",
      " 60%|█████▉    | 595/1000 [00:00<00:00, 596.78it/s]"
     ]
    }
   ],
   "source": [
    "import shutil\n",
    "import os\n",
    "from PIL import Image as PIL_Image\n",
    "\n",
    "# We'll save images in a directory with class as name.\n",
    "destination_root = \"./data/MNIST_FLAT/\"\n",
    "shutil.rmtree(destination_root,ignore_errors=True)\n",
    "os.makedirs(destination_root,exist_ok=True)\n",
    "for clsName in selection:\n",
    "    dest_dir = os.path.join(destination_root,clsName)\n",
    "    os.makedirs(dest_dir,exist_ok=True)\n",
    "    images = selection[clsName]\n",
    "    for i,img in tqdm(enumerate(images),total=len(images)):\n",
    "        im_name = f\"{clsName}_{i}.jpg\"\n",
    "        im_path = os.path.join(dest_dir,im_name)\n",
    "        img:PIL_Image\n",
    "        img.save(im_path)"
   ]
  },
  {
   "cell_type": "code",
   "execution_count": 5,
   "metadata": {},
   "outputs": [
    {
     "name": "stderr",
     "output_type": "stream",
     "text": [
      "100%|██████████| 1000/1000 [00:55<00:00, 18.08it/s, Image 0 - zero\\0 - zero_999.jpg]\n",
      "100%|██████████| 1000/1000 [00:39<00:00, 25.44it/s, Image 1 - one\\1 - one_999.jpg]\n",
      "100%|██████████| 1000/1000 [00:41<00:00, 24.21it/s, Image 2 - two\\2 - two_999.jpg]\n",
      "100%|██████████| 1000/1000 [00:39<00:00, 25.01it/s, Image 3 - three\\3 - three_999.jpg]\n",
      "100%|██████████| 1000/1000 [00:40<00:00, 24.67it/s, Image 4 - four\\4 - four_999.jpg]\n",
      "100%|██████████| 1000/1000 [00:50<00:00, 19.77it/s, Image 5 - five\\5 - five_999.jpg]\n",
      "100%|██████████| 1000/1000 [00:42<00:00, 23.27it/s, Image 6 - six\\6 - six_999.jpg]\n",
      "100%|██████████| 1000/1000 [00:40<00:00, 24.89it/s, Image 7 - seven\\7 - seven_999.jpg]\n",
      "100%|██████████| 1000/1000 [00:39<00:00, 25.05it/s, Image 8 - eight\\8 - eight_999.jpg]\n",
      "100%|██████████| 1000/1000 [00:42<00:00, 23.71it/s, Image 9 - nine\\9 - nine_999.jpg]\n"
     ]
    }
   ],
   "source": [
    "destination_root = \"./data/MNIST_FLAT/\"\n",
    "\n",
    "from azure.storage.blob import ContainerClient,BlobServiceClient\n",
    "connection_string = \"<CONNECTION STRING HERE>\"\n",
    "container_name = \"mnist-data\"\n",
    "container_client = ContainerClient.from_connection_string(connection_string,container_name)\n",
    "\n",
    "assert container_client.exists()\n",
    "\n",
    "for clsName in selection:\n",
    "    im_dir = os.path.join(destination_root,clsName)\n",
    "    tbar = tqdm(os.listdir(im_dir))\n",
    "    for imgName in tbar:\n",
    "        imgRelativePath = os.path.join(clsName,imgName)\n",
    "        imgPath = os.path.join(destination_root,imgRelativePath)\n",
    "        with open(imgPath,'rb') as img_data:\n",
    "            container_client.upload_blob(\n",
    "                name=imgRelativePath,\n",
    "                data=img_data,\n",
    "                overwrite=True)\n",
    "        tbar.set_postfix_str(f'Image {imgRelativePath}')"
   ]
  },
  {
   "cell_type": "code",
   "execution_count": null,
   "metadata": {},
   "outputs": [],
   "source": []
  }
 ],
 "metadata": {
  "kernelspec": {
   "display_name": "azml_training",
   "language": "python",
   "name": "python3"
  },
  "language_info": {
   "codemirror_mode": {
    "name": "ipython",
    "version": 3
   },
   "file_extension": ".py",
   "mimetype": "text/x-python",
   "name": "python",
   "nbconvert_exporter": "python",
   "pygments_lexer": "ipython3",
   "version": "3.8.13"
  },
  "orig_nbformat": 4,
  "vscode": {
   "interpreter": {
    "hash": "c6647913e938fb2d254350884122dc0cfb04bd31da573f13e0bdb498b45f915a"
   }
  }
 },
 "nbformat": 4,
 "nbformat_minor": 2
}
